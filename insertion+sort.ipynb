{
 "cells": [
  {
   "cell_type": "code",
   "execution_count": 61,
   "metadata": {},
   "outputs": [],
   "source": [
    "def insertion(arr):\n",
    "    \n",
    "    for i in range(1,len(arr)):\n",
    "       \n",
    "        # extracting it\n",
    "        t = arr[i]\n",
    "        pos = i\n",
    "        \n",
    "        while pos > 0 and t < arr[pos-1]:\n",
    "    \n",
    "            arr[pos] = arr[pos-1]\n",
    "            pos -= 1\n",
    "                \n",
    "            \n",
    "        arr[pos] = t\n",
    "    print(arr)"
   ]
  },
  {
   "cell_type": "code",
   "execution_count": 62,
   "metadata": {},
   "outputs": [
    {
     "name": "stdout",
     "output_type": "stream",
     "text": [
      "[0, 1, 2, 3, 6, 9]\n"
     ]
    }
   ],
   "source": [
    "insertion([1,6,3,9,2,0])"
   ]
  },
  {
   "cell_type": "code",
   "execution_count": null,
   "metadata": {
    "collapsed": true
   },
   "outputs": [],
   "source": []
  }
 ],
 "metadata": {
  "kernelspec": {
   "display_name": "Python 3",
   "language": "python",
   "name": "python3"
  },
  "language_info": {
   "codemirror_mode": {
    "name": "ipython",
    "version": 3
   },
   "file_extension": ".py",
   "mimetype": "text/x-python",
   "name": "python",
   "nbconvert_exporter": "python",
   "pygments_lexer": "ipython3",
   "version": "3.6.2"
  }
 },
 "nbformat": 4,
 "nbformat_minor": 2
}
