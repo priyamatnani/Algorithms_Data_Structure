{
 "cells": [
  {
   "cell_type": "code",
   "execution_count": 13,
   "metadata": {},
   "outputs": [],
   "source": [
    "def selection(arr):\n",
    "    \n",
    "    leng = len(arr) - 1\n",
    "    cnt = 0\n",
    "    \n",
    "    for i in range(leng - cnt):\n",
    "        max = 0\n",
    "        max_index = 0\n",
    "        for j in range(leng - i):\n",
    "            if arr[j] > max:\n",
    "                max = arr[j]\n",
    "                max_index = j\n",
    "                \n",
    "        t = arr[leng - i]\n",
    "        arr[leng- i] = arr[max_index]\n",
    "        arr[max_index] = t\n",
    "        cnt = i\n",
    "        \n",
    "    print(arr)  \n",
    "        "
   ]
  },
  {
   "cell_type": "code",
   "execution_count": 14,
   "metadata": {},
   "outputs": [
    {
     "name": "stdout",
     "output_type": "stream",
     "text": [
      "[0, 2, 3, 4, 6, 6, 7, 8, 31]\n"
     ]
    }
   ],
   "source": [
    "selection([2,4,31,6,7,6,8,3,0])"
   ]
  },
  {
   "cell_type": "code",
   "execution_count": null,
   "metadata": {
    "collapsed": true
   },
   "outputs": [],
   "source": []
  },
  {
   "cell_type": "code",
   "execution_count": null,
   "metadata": {
    "collapsed": true
   },
   "outputs": [],
   "source": []
  }
 ],
 "metadata": {
  "kernelspec": {
   "display_name": "Python 3",
   "language": "python",
   "name": "python3"
  },
  "language_info": {
   "codemirror_mode": {
    "name": "ipython",
    "version": 3
   },
   "file_extension": ".py",
   "mimetype": "text/x-python",
   "name": "python",
   "nbconvert_exporter": "python",
   "pygments_lexer": "ipython3",
   "version": "3.6.2"
  }
 },
 "nbformat": 4,
 "nbformat_minor": 2
}
