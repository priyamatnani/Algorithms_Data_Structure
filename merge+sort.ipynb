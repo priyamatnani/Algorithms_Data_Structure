{
 "cells": [
  {
   "cell_type": "code",
   "execution_count": 44,
   "metadata": {
    "collapsed": true
   },
   "outputs": [],
   "source": [
    "def merge(left,right):\n",
    "    \n",
    "    if len(left) == 0 or len(right) == 0:\n",
    "        return left or right\n",
    "    \n",
    "    result = []\n",
    "    i=0\n",
    "    j=0\n",
    "    while len(result) < len(left) + len(right):\n",
    "        \n",
    "        if left[i] < right[j]:\n",
    "            result.append(left[i])\n",
    "            i += 1\n",
    "        else:\n",
    "            result.append(right[j])\n",
    "            j += 1\n",
    "        if i == len(left)  or j == len(right) :\n",
    "            result.extend(left[i:] or right[j:])\n",
    "            break\n",
    "       \n",
    "    print(\">>\",result)\n",
    "    return result"
   ]
  },
  {
   "cell_type": "code",
   "execution_count": 45,
   "metadata": {},
   "outputs": [
    {
     "name": "stdout",
     "output_type": "stream",
     "text": [
      ">> [1, 7, 8, 9]\n",
      "[1, 7, 8, 9]\n"
     ]
    }
   ],
   "source": [
    "a = merge([7,8],[1,9])\n",
    "print(a)"
   ]
  },
  {
   "cell_type": "code",
   "execution_count": 53,
   "metadata": {
    "collapsed": true
   },
   "outputs": [],
   "source": [
    "def sort1(arr):\n",
    "    \n",
    "    if len(arr) < 2:\n",
    "        return arr\n",
    "    \n",
    "    mid = len(arr) // 2\n",
    "    \n",
    "    left = sort1(arr[:mid])\n",
    "    right = sort1(arr[mid:])\n",
    "    \n",
    "    return merge(left,right)"
   ]
  },
  {
   "cell_type": "code",
   "execution_count": 55,
   "metadata": {},
   "outputs": [
    {
     "name": "stdout",
     "output_type": "stream",
     "text": [
      ">> [0, 6]\n",
      ">> [2, 11]\n",
      ">> [2, 2, 11]\n",
      ">> [0, 2, 2, 6, 11]\n",
      ">> [44, 55]\n",
      ">> [8, 32]\n",
      ">> [1, 8, 32]\n",
      ">> [1, 8, 32, 44, 55]\n",
      ">> [0, 1, 2, 2, 6, 8, 11, 32, 44, 55]\n",
      "[0, 1, 2, 2, 6, 8, 11, 32, 44, 55]\n"
     ]
    }
   ],
   "source": [
    "print(sort1([0,6,2,11,2,44,55,1,8,32]))"
   ]
  },
  {
   "cell_type": "code",
   "execution_count": null,
   "metadata": {
    "collapsed": true
   },
   "outputs": [],
   "source": []
  },
  {
   "cell_type": "code",
   "execution_count": null,
   "metadata": {
    "collapsed": true
   },
   "outputs": [],
   "source": []
  }
 ],
 "metadata": {
  "kernelspec": {
   "display_name": "Python 3",
   "language": "python",
   "name": "python3"
  },
  "language_info": {
   "codemirror_mode": {
    "name": "ipython",
    "version": 3
   },
   "file_extension": ".py",
   "mimetype": "text/x-python",
   "name": "python",
   "nbconvert_exporter": "python",
   "pygments_lexer": "ipython3",
   "version": "3.6.2"
  }
 },
 "nbformat": 4,
 "nbformat_minor": 2
}
