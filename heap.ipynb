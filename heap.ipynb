{
 "cells": [
  {
   "cell_type": "code",
   "execution_count": null,
   "metadata": {
    "collapsed": true
   },
   "outputs": [],
   "source": [
    "class Heap():\n",
    "    \n",
    "    def __init__(self):\n",
    "        self.heapList = [0]\n",
    "        self.size = 0\n",
    "        \n",
    "    def move_up(self, i):\n",
    "        \n",
    "        while i > 0:\n",
    "            if self.heapList[i] < self.heapList[i // 2]:\n",
    "                t = self.heapList[i]\n",
    "                self.heapList[i] = self.heapList[i //2]\n",
    "                self.heapList[i // 2] = t\n",
    "            i = i // 2\n",
    "            \n",
    "            \n",
    "    def insert(self,item):\n",
    "        self.heapList.append(item)\n",
    "        self.size += 1\n",
    "        move_up(self.size)\n",
    "        \n",
    "        \n",
    "    def move_down(self,i):\n",
    "        \n",
    "        while 2*i < size:\n",
    "            \n",
    "            mc = min_child(i)\n",
    "            if self.heapList[i] > self.heapList[mc]:\n",
    "                t = self.heapList[i]\n",
    "                self.heapList[i] = self.heapList[mc]\n",
    "                self.heapList[mc] = t\n",
    "            i = i*2\n",
    "         \n",
    "        \n",
    "    def min_child(self,i):\n",
    "        \n",
    "        if 2*i + 1 > size:\n",
    "            return 2* i\n",
    "        else:\n",
    "            if self.heapList[2*i] < self.heapList[2*i + 1]:\n",
    "                return 2 * i\n",
    "            else:\n",
    "                return 2 * i + 1\n",
    "            \n",
    "            \n",
    "    def deleteTop(self):\n",
    "        \n",
    "        top = self.heapList[1]\n",
    "        self.heaplist[1] = self.heaplist[self.size]\n",
    "        self.self -=1\n",
    "        self.heaplist.pop()\n",
    "        move_down(1)\n",
    "        return top\n",
    "    \n",
    "    \n",
    "    def buildHeap(self,list):\n",
    "        \n",
    "        i = len(list) // 2\n",
    "        self.size = len(list)\n",
    "        self.heaplist = [0] + list[:]\n",
    "        \n",
    "        while i > 0:\n",
    "            move_down(i)\n",
    "            i = i - 2"
   ]
  }
 ],
 "metadata": {
  "kernelspec": {
   "display_name": "Python 3",
   "language": "python",
   "name": "python3"
  },
  "language_info": {
   "codemirror_mode": {
    "name": "ipython",
    "version": 3
   },
   "file_extension": ".py",
   "mimetype": "text/x-python",
   "name": "python",
   "nbconvert_exporter": "python",
   "pygments_lexer": "ipython3",
   "version": "3.6.2"
  }
 },
 "nbformat": 4,
 "nbformat_minor": 2
}
