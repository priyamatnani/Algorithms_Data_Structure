{
 "cells": [
  {
   "cell_type": "code",
   "execution_count": 11,
   "metadata": {
    "collapsed": true
   },
   "outputs": [],
   "source": [
    "def quick(arr):\n",
    "    \n",
    "    quicksort(arr,0,len(arr)-1)\n",
    "    \n"
   ]
  },
  {
   "cell_type": "code",
   "execution_count": 27,
   "metadata": {
    "collapsed": true
   },
   "outputs": [],
   "source": [
    "def quicksort(arr,first,last):\n",
    "    \n",
    "    if first < last :\n",
    "        \n",
    "        mid = partition(arr, first, last)\n",
    "        \n",
    "        quicksort(arr, first, mid - 1)\n",
    "        quicksort(arr, mid + 1, last)\n",
    "        \n",
    "        "
   ]
  },
  {
   "cell_type": "code",
   "execution_count": 28,
   "metadata": {},
   "outputs": [],
   "source": [
    "def partition(arr, first, last):\n",
    "    \n",
    "    left = first + 1\n",
    "    right = last\n",
    "    \n",
    "    done = False\n",
    "    pivot = arr[first]\n",
    "    \n",
    "    while not done:\n",
    "        \n",
    "        while left <= right and arr[left] <= pivot:\n",
    "            left += 1\n",
    "        while  arr[right] >= pivot and right >= left:\n",
    "            right -= 1\n",
    "        if left > right:\n",
    "            done = True\n",
    "        else:\n",
    "            t = arr[left]\n",
    "            arr[left] = arr[right]\n",
    "            arr[right] = t\n",
    "            \n",
    "    tmp = arr[first]\n",
    "    arr[first] = arr[right]\n",
    "    arr[right] = tmp\n",
    "    \n",
    "    print(right)\n",
    "    return right"
   ]
  },
  {
   "cell_type": "code",
   "execution_count": 30,
   "metadata": {},
   "outputs": [
    {
     "name": "stdout",
     "output_type": "stream",
     "text": [
      "3\n",
      "0\n",
      "2\n",
      "5\n",
      "7\n"
     ]
    },
    {
     "data": {
      "text/plain": [
       "[0, 1, 1, 3, 6, 9, 11, 44]"
      ]
     },
     "execution_count": 30,
     "metadata": {},
     "output_type": "execute_result"
    }
   ],
   "source": [
    "arr = [3,6,1,9,0,11,44,1]\n",
    "quick(arr)\n",
    "arr"
   ]
  },
  {
   "cell_type": "code",
   "execution_count": null,
   "metadata": {
    "collapsed": true
   },
   "outputs": [],
   "source": []
  },
  {
   "cell_type": "code",
   "execution_count": null,
   "metadata": {
    "collapsed": true
   },
   "outputs": [],
   "source": []
  }
 ],
 "metadata": {
  "kernelspec": {
   "display_name": "Python 3",
   "language": "python",
   "name": "python3"
  },
  "language_info": {
   "codemirror_mode": {
    "name": "ipython",
    "version": 3
   },
   "file_extension": ".py",
   "mimetype": "text/x-python",
   "name": "python",
   "nbconvert_exporter": "python",
   "pygments_lexer": "ipython3",
   "version": "3.6.2"
  }
 },
 "nbformat": 4,
 "nbformat_minor": 2
}
