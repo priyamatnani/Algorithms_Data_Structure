{
 "cells": [
  {
   "cell_type": "code",
   "execution_count": 2,
   "metadata": {},
   "outputs": [],
   "source": [
    "class Vertex():\n",
    "    \n",
    "    def __init__(self,key):\n",
    "        self.key = key\n",
    "        self.connectedTo = {}\n",
    "        \n",
    "    def addNeighbor(self,key,weight):\n",
    "        self.connectedTo[key] = weight\n",
    "        \n",
    "    def getConnections(self):\n",
    "        return self.connectedTo.keys()\n",
    "    \n",
    "    def getWeight(self,key):\n",
    "        return self.connectedTo[key]\n",
    "    \n",
    "    def getVertex(self):\n",
    "        return self.key\n",
    "    \n",
    "    def printConnections(self):\n",
    "        print(self.key, self.connectedTo.keys())"
   ]
  },
  {
   "cell_type": "code",
   "execution_count": 3,
   "metadata": {
    "collapsed": true
   },
   "outputs": [],
   "source": [
    "v = Vertex('A')"
   ]
  },
  {
   "cell_type": "code",
   "execution_count": 4,
   "metadata": {
    "collapsed": true
   },
   "outputs": [],
   "source": [
    "v.addNeighbor('B',10)"
   ]
  },
  {
   "cell_type": "code",
   "execution_count": 5,
   "metadata": {
    "collapsed": true
   },
   "outputs": [],
   "source": [
    "v.addNeighbor('C',15)"
   ]
  },
  {
   "cell_type": "code",
   "execution_count": 6,
   "metadata": {},
   "outputs": [
    {
     "name": "stdout",
     "output_type": "stream",
     "text": [
      "A dict_keys(['B', 'C'])\n"
     ]
    }
   ],
   "source": [
    "v.printConnections()"
   ]
  },
  {
   "cell_type": "code",
   "execution_count": 34,
   "metadata": {
    "collapsed": true
   },
   "outputs": [],
   "source": [
    "class Graph():\n",
    "    \n",
    "    def __init__(self):\n",
    "        self.vertexList = {}\n",
    "        self.noOfVertex = 0\n",
    "        \n",
    "    def addVertex(self,key):\n",
    "        v = Vertex(key)\n",
    "        self.vertexList[key] = v\n",
    "        self.noOfVertex += 1\n",
    "        return v\n",
    "    \n",
    "    def getVertex(self,key):\n",
    "        if key in self.vertexList:\n",
    "            return self.vertexList[key]\n",
    "        else:\n",
    "            return None\n",
    "        \n",
    "    def addEdge(self,f,t,w):\n",
    "        if f not in self.vertexList:\n",
    "            self.addVertex(f)\n",
    "        if t not in self.vertexList:\n",
    "            self.addVertex(t)\n",
    "        self.getVertex(f).addNeighbor(t,w)\n",
    "        \n",
    "    def getNoOfVertices(self):\n",
    "        return self.noOfVertex;\n",
    "    \n",
    "    def printGraph(self):\n",
    "        for i in self.vertexList:\n",
    "            print(self.getVertex(i).printConnections())\n"
   ]
  },
  {
   "cell_type": "code",
   "execution_count": 35,
   "metadata": {
    "collapsed": true
   },
   "outputs": [],
   "source": [
    "g = Graph()"
   ]
  },
  {
   "cell_type": "code",
   "execution_count": 36,
   "metadata": {},
   "outputs": [
    {
     "data": {
      "text/plain": [
       "<__main__.Vertex at 0x10fce3048>"
      ]
     },
     "execution_count": 36,
     "metadata": {},
     "output_type": "execute_result"
    }
   ],
   "source": [
    "g.addVertex('A')"
   ]
  },
  {
   "cell_type": "code",
   "execution_count": 37,
   "metadata": {},
   "outputs": [
    {
     "data": {
      "text/plain": [
       "<__main__.Vertex at 0x10fce3588>"
      ]
     },
     "execution_count": 37,
     "metadata": {},
     "output_type": "execute_result"
    }
   ],
   "source": [
    "g.addVertex('B')"
   ]
  },
  {
   "cell_type": "code",
   "execution_count": 38,
   "metadata": {},
   "outputs": [],
   "source": [
    "g.addEdge('A','B',10)"
   ]
  },
  {
   "cell_type": "code",
   "execution_count": 39,
   "metadata": {},
   "outputs": [],
   "source": [
    "g.addEdge('B','C',13)"
   ]
  },
  {
   "cell_type": "code",
   "execution_count": 40,
   "metadata": {
    "collapsed": true
   },
   "outputs": [],
   "source": [
    "g.addEdge('A','C',3)"
   ]
  },
  {
   "cell_type": "code",
   "execution_count": 41,
   "metadata": {},
   "outputs": [
    {
     "name": "stdout",
     "output_type": "stream",
     "text": [
      "A dict_keys(['B', 'C'])\n",
      "None\n",
      "B dict_keys(['C'])\n",
      "None\n",
      "C dict_keys([])\n",
      "None\n"
     ]
    }
   ],
   "source": [
    "g.printGraph()"
   ]
  },
  {
   "cell_type": "code",
   "execution_count": null,
   "metadata": {
    "collapsed": true
   },
   "outputs": [],
   "source": []
  }
 ],
 "metadata": {
  "kernelspec": {
   "display_name": "Python 3",
   "language": "python",
   "name": "python3"
  },
  "language_info": {
   "codemirror_mode": {
    "name": "ipython",
    "version": 3
   },
   "file_extension": ".py",
   "mimetype": "text/x-python",
   "name": "python",
   "nbconvert_exporter": "python",
   "pygments_lexer": "ipython3",
   "version": "3.6.2"
  }
 },
 "nbformat": 4,
 "nbformat_minor": 2
}
