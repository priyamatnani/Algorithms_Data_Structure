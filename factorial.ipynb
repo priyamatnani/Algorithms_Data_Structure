{
 "cells": [
  {
   "cell_type": "markdown",
   "metadata": {},
   "source": [
    "You are given an integer . Print the factorial of this number.\n",
    "\n",
    "Input \n",
    "Input consists of a single integer , where .\n",
    "\n",
    "Output \n",
    "Print the factorial of .\n",
    "\n",
    "Example \n",
    "For an input of , you would print .\n",
    "\n",
    "Note: Factorials of  can't be stored even in a  long long variable. Big integers must be used for such calculations. Languages like Java, Python, Ruby etc. can handle big integers, but we need to write additional code in C/C++ to handle huge values.\n",
    "\n",
    "We recommend solving this challenge using BigIntegers."
   ]
  },
  {
   "cell_type": "code",
   "execution_count": null,
   "metadata": {
    "collapsed": true
   },
   "outputs": [],
   "source": [
    "#!/bin/python3\n",
    "\n",
    "import sys\n",
    "\n",
    "\n",
    "n = int(input().strip())\n",
    "res = 1\n",
    "def factorial(n):\n",
    "    if n == 1:\n",
    "        return 1\n",
    "    res = n* factorial(n-1)\n",
    "   \n",
    "    return res\n",
    "print(factorial(n))"
   ]
  }
 ],
 "metadata": {
  "kernelspec": {
   "display_name": "Python 3",
   "language": "python",
   "name": "python3"
  },
  "language_info": {
   "codemirror_mode": {
    "name": "ipython",
    "version": 3
   },
   "file_extension": ".py",
   "mimetype": "text/x-python",
   "name": "python",
   "nbconvert_exporter": "python",
   "pygments_lexer": "ipython3",
   "version": "3.6.2"
  }
 },
 "nbformat": 4,
 "nbformat_minor": 2
}
