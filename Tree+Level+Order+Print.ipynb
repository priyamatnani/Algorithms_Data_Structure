{
 "cells": [
  {
   "cell_type": "markdown",
   "metadata": {},
   "source": [
    "# Tree Level Order Print \n",
    "\n",
    "Given a binary tree of integers, print it in level order. The output will contain space between the numbers in the same level, and new line between different levels. For example, if the tree is: \n",
    "___\n",
    "![title](tree_print.png)\n",
    "___\n",
    "The output should be: \n",
    "\n",
    "    1 \n",
    "    2 3 \n",
    "    4 5 6"
   ]
  },
  {
   "cell_type": "markdown",
   "metadata": {},
   "source": [
    "## Solution\n",
    "\n",
    "Fill out your solution below:"
   ]
  },
  {
   "cell_type": "code",
   "execution_count": 75,
   "metadata": {
    "collapsed": true
   },
   "outputs": [],
   "source": [
    "class btree():\n",
    "    \n",
    "    def __init__(self,root):\n",
    "        self.key = root\n",
    "        self.value = None\n",
    "        self.leftChild = None\n",
    "        self.rightChild = None\n",
    "        \n",
    "    def insertLeft(self,node):\n",
    "        if self.leftChild == None:\n",
    "            self.leftChild = btree(node)\n",
    "        else:\n",
    "            self.leftChild.leftChild = btree(node)\n",
    "            \n",
    "    def insertRight(self,node):\n",
    "        if self.rightChild == None:\n",
    "            self.rightChild = btree(node)\n",
    "        else:\n",
    "            self.rightChild.rightChild = btree(node)\n",
    "            \n",
    "    def getRoot(self):\n",
    "        return self.key\n",
    "    \n",
    "    def setRoot(self,root):\n",
    "        self.key = root\n",
    "        \n",
    "    def getLeftChild(self):\n",
    "        return self.leftChild\n",
    "    \n",
    "    def getRightChild(self):\n",
    "        return self.rightChild"
   ]
  },
  {
   "cell_type": "code",
   "execution_count": 76,
   "metadata": {},
   "outputs": [],
   "source": [
    "tree = btree(1)"
   ]
  },
  {
   "cell_type": "code",
   "execution_count": 77,
   "metadata": {
    "collapsed": true
   },
   "outputs": [],
   "source": [
    "tree.insertLeft(2)"
   ]
  },
  {
   "cell_type": "code",
   "execution_count": 78,
   "metadata": {
    "collapsed": true
   },
   "outputs": [],
   "source": [
    "tree.insertRight(3)"
   ]
  },
  {
   "cell_type": "code",
   "execution_count": 79,
   "metadata": {
    "collapsed": true
   },
   "outputs": [],
   "source": [
    "tree.getLeftChild().insertLeft(4)"
   ]
  },
  {
   "cell_type": "code",
   "execution_count": 80,
   "metadata": {
    "collapsed": true
   },
   "outputs": [],
   "source": [
    "tree.getRightChild().insertLeft(5)"
   ]
  },
  {
   "cell_type": "code",
   "execution_count": 81,
   "metadata": {
    "collapsed": true
   },
   "outputs": [],
   "source": [
    "tree.getRightChild().insertRight(6)"
   ]
  },
  {
   "cell_type": "code",
   "execution_count": 82,
   "metadata": {},
   "outputs": [],
   "source": [
    "tree.getRightChild().getLeftChild().insertLeft(7)"
   ]
  },
  {
   "cell_type": "code",
   "execution_count": 83,
   "metadata": {
    "collapsed": true
   },
   "outputs": [],
   "source": [
    "tree.getLeftChild().insertRight(8)"
   ]
  },
  {
   "cell_type": "code",
   "execution_count": null,
   "metadata": {
    "collapsed": true
   },
   "outputs": [],
   "source": []
  },
  {
   "cell_type": "code",
   "execution_count": null,
   "metadata": {
    "collapsed": true
   },
   "outputs": [],
   "source": []
  },
  {
   "cell_type": "code",
   "execution_count": 84,
   "metadata": {
    "collapsed": true
   },
   "outputs": [],
   "source": [
    "def levelOrderPrint(tree):\n",
    "    #Code here\n",
    "    if tree != None:\n",
    "        print(tree.getRoot())\n",
    "        printFun(tree)\n",
    "        \n",
    "\n",
    "        "
   ]
  },
  {
   "cell_type": "code",
   "execution_count": 85,
   "metadata": {},
   "outputs": [],
   "source": [
    "def printFun(tree):\n",
    "    if tree!= None:\n",
    "        if tree.getLeftChild() != None:\n",
    "            print(tree.getLeftChild().getRoot())\n",
    "\n",
    "        if tree.getRightChild() != None:\n",
    "            print(tree.getRightChild().getRoot())\n",
    "\n",
    "        printFun(tree.getLeftChild())\n",
    "        printFun(tree.getRightChild())\n"
   ]
  },
  {
   "cell_type": "code",
   "execution_count": 86,
   "metadata": {},
   "outputs": [
    {
     "name": "stdout",
     "output_type": "stream",
     "text": [
      "1\n",
      "2\n",
      "3\n",
      "4\n",
      "8\n",
      "5\n",
      "6\n",
      "7\n"
     ]
    }
   ],
   "source": [
    "levelOrderPrint(tree)"
   ]
  },
  {
   "cell_type": "code",
   "execution_count": 147,
   "metadata": {},
   "outputs": [],
   "source": [
    "import collections\n",
    "\n",
    "def levelOrder(tree):\n",
    "    \n",
    "    q = collections.deque()\n",
    "    \n",
    "    q.append(tree)\n",
    "    q.append('$')\n",
    "    \n",
    "    while len(q) != 0:\n",
    "            \n",
    "        a = q.popleft()\n",
    "        \n",
    "        if a != '$':\n",
    "            \n",
    "            print(\">>>\",a.getRoot(), end = \" \")\n",
    "            \n",
    "            if a.getLeftChild() :\n",
    "                q.append(a.getLeftChild())\n",
    "\n",
    "            if a.getRightChild() :\n",
    "                q.append(a.getRightChild())\n",
    "           \n",
    "        else:\n",
    "            if len(q) != 0:\n",
    "                print(\"\\n\")\n",
    "                q.append('$')\n",
    "            \n",
    "        \n",
    "        \n"
   ]
  },
  {
   "cell_type": "code",
   "execution_count": 148,
   "metadata": {},
   "outputs": [
    {
     "name": "stdout",
     "output_type": "stream",
     "text": [
      ">>> 1 \n",
      "\n",
      ">>> 2 >>> 3 \n",
      "\n",
      ">>> 4 >>> 8 >>> 5 >>> 6 \n",
      "\n",
      ">>> 7 "
     ]
    }
   ],
   "source": [
    "levelOrder(tree)"
   ]
  },
  {
   "cell_type": "markdown",
   "metadata": {},
   "source": [
    "https://www.youtube.com/watch?v=MILxfAbIhrE"
   ]
  },
  {
   "cell_type": "code",
   "execution_count": null,
   "metadata": {
    "collapsed": true
   },
   "outputs": [],
   "source": []
  }
 ],
 "metadata": {
  "kernelspec": {
   "display_name": "Python 3",
   "language": "python",
   "name": "python3"
  },
  "language_info": {
   "codemirror_mode": {
    "name": "ipython",
    "version": 3
   },
   "file_extension": ".py",
   "mimetype": "text/x-python",
   "name": "python",
   "nbconvert_exporter": "python",
   "pygments_lexer": "ipython3",
   "version": "3.6.2"
  }
 },
 "nbformat": 4,
 "nbformat_minor": 1
}
